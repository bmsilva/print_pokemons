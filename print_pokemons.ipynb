{
 "cells": [
  {
   "cell_type": "markdown",
   "metadata": {},
   "source": [
    "# Print pokemons\n",
    "\n",
    "api: https://github.com/rubenvereecken/pokemongo-api"
   ]
  },
  {
   "cell_type": "code",
   "execution_count": null,
   "metadata": {
    "collapsed": true
   },
   "outputs": [],
   "source": [
    "import print_pokemons as pp\n",
    "from pogo.pokedex import pokedex"
   ]
  },
  {
   "cell_type": "code",
   "execution_count": null,
   "metadata": {
    "collapsed": true
   },
   "outputs": [],
   "source": [
    "username, password = pp.get_credentials_from_keyfile('keyfile')"
   ]
  },
  {
   "cell_type": "code",
   "execution_count": null,
   "metadata": {
    "collapsed": false
   },
   "outputs": [],
   "source": [
    "trainer = pp.get_trainer(username, password)"
   ]
  },
  {
   "cell_type": "code",
   "execution_count": null,
   "metadata": {
    "collapsed": false
   },
   "outputs": [],
   "source": [
    "bag = pp.get_pokemons(trainer)"
   ]
  },
  {
   "cell_type": "code",
   "execution_count": null,
   "metadata": {
    "collapsed": false
   },
   "outputs": [],
   "source": [
    "pp.print_pokemons_by_iv(bag)"
   ]
  },
  {
   "cell_type": "code",
   "execution_count": null,
   "metadata": {
    "collapsed": true
   },
   "outputs": [],
   "source": []
  },
  {
   "cell_type": "markdown",
   "metadata": {},
   "source": [
    "## Count pokemons and possible evolves"
   ]
  },
  {
   "cell_type": "code",
   "execution_count": null,
   "metadata": {
    "collapsed": false
   },
   "outputs": [],
   "source": [
    "from collections import Counter\n",
    "\n",
    "counter = Counter([(x['name'], x['id']) for x in bag])\n",
    "\n",
    "print(counter.most_common(5))"
   ]
  },
  {
   "cell_type": "code",
   "execution_count": null,
   "metadata": {
    "collapsed": true
   },
   "outputs": [],
   "source": [
    "inventory = trainer.session.getInventory()"
   ]
  },
  {
   "cell_type": "code",
   "execution_count": null,
   "metadata": {
    "collapsed": false
   },
   "outputs": [],
   "source": [
    "print('{:>15} | {:>5} | {:>10} | {:>6} | {}'.format('Name', 'Num', 'Candies', 'Need', 'Possible Evolutions'))\n",
    "print('-'*70)\n",
    "\n",
    "total_possible = 0\n",
    "for item, count in sorted(counter.most_common()):\n",
    "    family = pokedex.families[item[1]]\n",
    "    \n",
    "    n_candies = inventory.candies.get(item[1], 0)\n",
    "    \n",
    "    need = pokedex.evolves.get(item[1], 0)\n",
    "    possible = 0\n",
    "    \n",
    "    if not need:\n",
    "        # if need == 0 -> no evolution possible\n",
    "        continue\n",
    "        \n",
    "    possible = int(n_candies / need)\n",
    "    print('{:>15} | {:>5} | {:>10} | {:>6} | {}'.format(item[0], count, n_candies, need, possible))\n",
    "    total_possible += possible\n",
    "print('\\nTotal possible: {}'.format(total_possible))"
   ]
  },
  {
   "cell_type": "code",
   "execution_count": null,
   "metadata": {
    "collapsed": false
   },
   "outputs": [],
   "source": [
    "def print_pokemons_by_number(lst, segments=(90, 82, 0)):\n",
    "    lst.sort(key=lambda x: (x['id'],x['%'], x['cp']))\n",
    "\n",
    "    sep = '-'*(110)\n",
    "    print('{:>3} | {:>15} | {:>4} | {:>4} | {:>8} | {:>8} | {:>8} | {:>8} | {:>8} | {:>8} | {}'.format(\n",
    "        'id', 'name', 'cp', 'hp', 'attack', 'defense', 'stamina', '%', 'candies', 'n_evolves', 'family'))\n",
    "    print(sep)\n",
    "\n",
    "\n",
    "    curr_family = ''\n",
    "    counter = 0\n",
    "\n",
    "    for (i, p) in enumerate(lst, start=1):\n",
    "        if not curr_family:\n",
    "            curr_family=p['family']\n",
    "\n",
    "        if p['family'] != curr_family:\n",
    "            curr_family=p['family']\n",
    "            print('')\n",
    "\n",
    "        print('{id:>3} |{name:>15} | {cp:>4} | {hp:>4} | {attack:>8} | {defense:>8} | {stamina:>8} | {%:>8.3f} | {candies:>8} | {n_evolves:>8} | {family}'.format(**p))\n",
    "\n",
    "    print('Sub total: {}'.format(counter))\n",
    "    print('Pokemons Total: {}'.format(len(lst)))\n",
    "\n",
    "print_pokemons_by_number(bag)"
   ]
  }
 ],
 "metadata": {
  "kernelspec": {
   "display_name": "Python 3",
   "language": "python",
   "name": "python3"
  },
  "language_info": {
   "codemirror_mode": {
    "name": "ipython",
    "version": 3
   },
   "file_extension": ".py",
   "mimetype": "text/x-python",
   "name": "python",
   "nbconvert_exporter": "python",
   "pygments_lexer": "ipython3",
   "version": "3.5.2"
  }
 },
 "nbformat": 4,
 "nbformat_minor": 0
}
