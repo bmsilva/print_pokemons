{
 "cells": [
  {
   "cell_type": "markdown",
   "metadata": {},
   "source": [
    "# Print pokemons\n",
    "\n",
    "api: https://github.com/rubenvereecken/pokemongo-api"
   ]
  },
  {
   "cell_type": "code",
   "execution_count": null,
   "metadata": {
    "collapsed": true
   },
   "outputs": [],
   "source": [
    "import print_pokemons as pp\n",
    "from pogo.pokedex import pokedex"
   ]
  },
  {
   "cell_type": "code",
   "execution_count": null,
   "metadata": {
    "collapsed": true
   },
   "outputs": [],
   "source": [
    "username, password = pp.get_credentials_from_keyfile('keyfile')"
   ]
  },
  {
   "cell_type": "code",
   "execution_count": null,
   "metadata": {
    "collapsed": false
   },
   "outputs": [],
   "source": [
    "trainer = pp.get_trainer(username, password)"
   ]
  },
  {
   "cell_type": "code",
   "execution_count": null,
   "metadata": {
    "collapsed": false
   },
   "outputs": [],
   "source": [
    "inventory = trainer.session.getInventory()\n",
    "bag = pp.get_pokemons(trainer)"
   ]
  },
  {
   "cell_type": "code",
   "execution_count": null,
   "metadata": {
    "collapsed": false
   },
   "outputs": [],
   "source": [
    "pp.print_pokemons_by_iv(bag)"
   ]
  },
  {
   "cell_type": "code",
   "execution_count": null,
   "metadata": {
    "collapsed": false
   },
   "outputs": [],
   "source": [
    "pp.print_pokemons_by_number(bag)"
   ]
  },
  {
   "cell_type": "markdown",
   "metadata": {},
   "source": [
    "## Count pokemons and possible evolves"
   ]
  },
  {
   "cell_type": "code",
   "execution_count": null,
   "metadata": {
    "collapsed": false
   },
   "outputs": [],
   "source": [
    "from collections import Counter\n",
    "\n",
    "def print_most_common(bag, limit=None):\n",
    "    counter = Counter([(x['name'], x['id']) for x in bag if pokedex.evolves.get(x['id'], 0) > 0])\n",
    "\n",
    "    print('{:>15} | {:>5} | {:>7} | {:>6} | {}'.format('Name', 'Num', 'Candies', 'Need', 'Possible Evolutions'))\n",
    "    print('-'*70)\n",
    "\n",
    "    total_possible = 0\n",
    "    if limit is None:\n",
    "        most_common = sorted(counter.most_common())\n",
    "    else:\n",
    "        most_common = sorted(counter.most_common(limit))\n",
    "    for item, count in most_common:\n",
    "        family = pokedex.families[item[1]]\n",
    "\n",
    "        n_candies = inventory.candies.get(item[1], 0)\n",
    "        need = pokedex.evolves.get(item[1], 0)\n",
    "\n",
    "        possible = int(n_candies / need)\n",
    "        print('{:>15} | {:>5} | {:>7} | {:>6} | {}'.format(item[0], count, n_candies, need, possible))\n",
    "        total_possible += possible\n",
    "    print('\\nTotal possible: {}'.format(total_possible))"
   ]
  },
  {
   "cell_type": "code",
   "execution_count": null,
   "metadata": {
    "collapsed": false
   },
   "outputs": [],
   "source": [
    "print_most_common(bag)"
   ]
  }
 ],
 "metadata": {
  "kernelspec": {
   "display_name": "Python 3",
   "language": "python",
   "name": "python3"
  },
  "language_info": {
   "codemirror_mode": {
    "name": "ipython",
    "version": 3
   },
   "file_extension": ".py",
   "mimetype": "text/x-python",
   "name": "python",
   "nbconvert_exporter": "python",
   "pygments_lexer": "ipython3",
   "version": "3.5.2"
  }
 },
 "nbformat": 4,
 "nbformat_minor": 0
}
