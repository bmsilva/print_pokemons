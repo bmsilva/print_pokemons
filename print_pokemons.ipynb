{
 "cells": [
  {
   "cell_type": "markdown",
   "metadata": {},
   "source": [
    "# Print pokemons\n",
    "\n",
    "api: https://github.com/rubenvereecken/pokemongo-api"
   ]
  },
  {
   "cell_type": "code",
   "execution_count": null,
   "metadata": {
    "collapsed": false
   },
   "outputs": [],
   "source": [
    "import print_pokemons as pp\n",
    "from pogo.pokedex import pokedex\n",
    "\n",
    "pokemon_types = pp.Types()"
   ]
  },
  {
   "cell_type": "code",
   "execution_count": null,
   "metadata": {
    "collapsed": false
   },
   "outputs": [],
   "source": [
    "keyfile = 'keyfile'\n",
    "username, password, auth_type = pp.get_credentials_from_keyfile(keyfile)"
   ]
  },
  {
   "cell_type": "code",
   "execution_count": null,
   "metadata": {
    "collapsed": false
   },
   "outputs": [],
   "source": [
    "trainer = pp.get_trainer(username, password, auth_type)"
   ]
  },
  {
   "cell_type": "code",
   "execution_count": null,
   "metadata": {
    "collapsed": false
   },
   "outputs": [],
   "source": [
    "inventory = trainer.session.getInventory()\n",
    "bag = pp.get_pokemons(trainer)"
   ]
  },
  {
   "cell_type": "markdown",
   "metadata": {},
   "source": [
    "## Count pokemons and possible evolves"
   ]
  },
  {
   "cell_type": "code",
   "execution_count": null,
   "metadata": {
    "collapsed": false
   },
   "outputs": [],
   "source": [
    "from collections import Counter\n",
    "\n",
    "def print_most_common(bag, limit=None, curr_evo_only=False, exclude=None):\n",
    "    if exclude is None:\n",
    "        exclude = list()\n",
    "    counter = Counter([(x['name'], x['id']) for x in bag if pokedex.evolves.get(x['id'], 0) > 0])\n",
    "\n",
    "    print('{:>15} | {:>5} | {:>7} | {:>7} | {:>8} | {}'.format('Name', 'Need', 'Candies', 'NumHave', 'Can Evo.', 'Curr. Evo.'))\n",
    "    print('-'*70)\n",
    "\n",
    "    total_possible = 0\n",
    "    total_current = 0\n",
    "    if limit is None:\n",
    "        most_common = sorted(counter.most_common())\n",
    "    else:\n",
    "        most_common = sorted(counter.most_common(limit))\n",
    "\n",
    "    for item, count in most_common:\n",
    "        family = pokedex.families[item[1]]\n",
    "\n",
    "        n_candies = inventory.candies.get(item[1], 0)\n",
    "        need = pokedex.evolves.get(item[1], 0)\n",
    "\n",
    "        possible = int(n_candies / need)\n",
    "        curr = min(possible, count)\n",
    "        if curr_evo_only and curr == 0:\n",
    "            continue\n",
    "        if item[0] in exclude:\n",
    "            continue\n",
    "        print('{:>15} | {:>5} | {:>7} | {:>7} | {:>8} | {}'.format(item[0], need, n_candies, count, possible, curr))\n",
    "\n",
    "        total_possible += possible\n",
    "        total_current += curr\n",
    "\n",
    "    print('\\nTotal possible evolutions: {}'.format(total_possible))\n",
    "    print('Current total evolutions: {}'.format(total_current))"
   ]
  },
  {
   "cell_type": "markdown",
   "metadata": {},
   "source": [
    "## Examples of pokemon filtering"
   ]
  },
  {
   "cell_type": "markdown",
   "metadata": {},
   "source": [
    "### Filter by Type"
   ]
  },
  {
   "cell_type": "code",
   "execution_count": null,
   "metadata": {
    "collapsed": true
   },
   "outputs": [],
   "source": [
    "lst = [x for x in bag if pokemon_types.WATER in pokemon_types[x['id']]]"
   ]
  },
  {
   "cell_type": "markdown",
   "metadata": {},
   "source": [
    "### All from list of types"
   ]
  },
  {
   "cell_type": "code",
   "execution_count": null,
   "metadata": {
    "collapsed": true
   },
   "outputs": [],
   "source": [
    "lst = [x for x in bag if any(i in [pokemon_types.FAIRY, pokemon_types.NORMAL] for i in pokemon_types[x['id']])]"
   ]
  },
  {
   "cell_type": "markdown",
   "metadata": {},
   "source": [
    "### Have all this types"
   ]
  },
  {
   "cell_type": "code",
   "execution_count": null,
   "metadata": {
    "collapsed": true
   },
   "outputs": [],
   "source": [
    "lst = [x for x in bag if all(i in pokemon_types[x['id']] for i in [pokemon_types.FAIRY, pokemon_types.NORMAL])]"
   ]
  },
  {
   "cell_type": "markdown",
   "metadata": {},
   "source": [
    "### Print pokemon types"
   ]
  },
  {
   "cell_type": "code",
   "execution_count": null,
   "metadata": {
    "collapsed": false
   },
   "outputs": [],
   "source": [
    "for t in pokemon_types[pokedex.MR_MIME]:\n",
    "    print(pokemon_types.ALL_TYPES[t])"
   ]
  },
  {
   "cell_type": "markdown",
   "metadata": {},
   "source": [
    "## Snippets"
   ]
  },
  {
   "cell_type": "code",
   "execution_count": null,
   "metadata": {
    "collapsed": true
   },
   "outputs": [],
   "source": [
    "# Use bag to get all pokemons\n",
    "lst = bag"
   ]
  },
  {
   "cell_type": "code",
   "execution_count": null,
   "metadata": {
    "collapsed": false
   },
   "outputs": [],
   "source": [
    "pp.print_pokemons_by_iv(lst, segments=(93, 85, 82, 75, 0))"
   ]
  },
  {
   "cell_type": "code",
   "execution_count": null,
   "metadata": {
    "collapsed": false
   },
   "outputs": [],
   "source": [
    "pp.print_pokemons_by_number(lst)"
   ]
  },
  {
   "cell_type": "code",
   "execution_count": null,
   "metadata": {
    "collapsed": false
   },
   "outputs": [],
   "source": [
    "print_most_common(lst, curr_evo_only=True, exclude=('DRATINI', 'CHARMANDER'))"
   ]
  }
 ],
 "metadata": {
  "kernelspec": {
   "display_name": "Python 3",
   "language": "python",
   "name": "python3"
  },
  "language_info": {
   "codemirror_mode": {
    "name": "ipython",
    "version": 3
   },
   "file_extension": ".py",
   "mimetype": "text/x-python",
   "name": "python",
   "nbconvert_exporter": "python",
   "pygments_lexer": "ipython3",
   "version": "3.5.2"
  }
 },
 "nbformat": 4,
 "nbformat_minor": 0
}
